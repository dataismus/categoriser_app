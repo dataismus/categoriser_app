{
 "cells": [
  {
   "cell_type": "raw",
   "metadata": {},
   "source": [
    "#Requirements:\n",
    "\n",
    "curl -XPOST \\\n",
    "   0.0.0.0:5000/classify \\\n",
    "   -H 'Content-Type: application/json' \\\n",
    "   -d '{ \"title\": \"my product title containing aquarelle\" }'\n",
    "\n",
    "{\n",
    "    \"title\": \"my product title containing aquarelle\",\n",
    "    \"top_5_results\": [\n",
    "        {\n",
    "            \"product_type\": \"painting\",\n",
    "            \"score\": 0.xxxx\n",
    "        },\n",
    "        {\n",
    "            \"product_type\": \"aquarium\",\n",
    "            \"score\": 0.xxxx\n",
    "        },\n",
    "        {\n",
    "            \"product_type\": \"diving_suit\",\n",
    "            \"score\": 0.xxxx\n",
    "        },\n",
    "        {\n",
    "            \"product_type\": \"stone\",\n",
    "            \"score\": 0.xxxx\n",
    "        },\n",
    "        {\n",
    "            \"product_type\": \"wig\",\n",
    "            \"score\": 0.xxxx\n",
    "        }\n",
    "    ],\n",
    "    \"product_type\": \"painting\"\n",
    "}\n"
   ]
  },
  {
   "cell_type": "code",
   "execution_count": null,
   "metadata": {},
   "outputs": [],
   "source": []
  },
  {
   "cell_type": "code",
   "execution_count": null,
   "metadata": {},
   "outputs": [
    {
     "name": "stdout",
     "output_type": "stream",
     "text": [
      " * Serving Flask app \"__main__\" (lazy loading)\n",
      " * Environment: production\n",
      "\u001b[31m   WARNING: This is a development server. Do not use it in a production deployment.\u001b[0m\n",
      "\u001b[2m   Use a production WSGI server instead.\u001b[0m\n",
      " * Debug mode: off\n"
     ]
    },
    {
     "name": "stderr",
     "output_type": "stream",
     "text": [
      " * Running on http://0.0.0.0:8055/ (Press CTRL+C to quit)\n",
      "127.0.0.1 - - [26/May/2020 18:40:47] \"\u001b[37mPOST /classify HTTP/1.1\u001b[0m\" 200 -\n",
      "127.0.0.1 - - [26/May/2020 18:41:15] \"\u001b[37mPOST /classify HTTP/1.1\u001b[0m\" 200 -\n",
      "172.17.0.1 - - [26/May/2020 18:41:27] \"\u001b[33mGET / HTTP/1.1\u001b[0m\" 404 -\n",
      "172.17.0.1 - - [26/May/2020 18:41:27] \"\u001b[33mGET /favicon.ico HTTP/1.1\u001b[0m\" 404 -\n",
      "172.17.0.1 - - [26/May/2020 18:41:32] \"\u001b[31m\u001b[1mGET /classify HTTP/1.1\u001b[0m\" 405 -\n",
      "172.17.0.1 - - [26/May/2020 18:42:00] \"\u001b[31m\u001b[1mGET /classify HTTP/1.1\u001b[0m\" 405 -\n",
      "172.17.0.1 - - [26/May/2020 18:42:18] \"\u001b[31m\u001b[1mGET /classify HTTP/1.1\u001b[0m\" 405 -\n",
      "172.17.0.1 - - [26/May/2020 18:42:23] \"\u001b[33mGET /classify/batman HTTP/1.1\u001b[0m\" 404 -\n",
      "172.17.0.1 - - [26/May/2020 18:42:29] \"\u001b[33mGET /classify/%22batman%22 HTTP/1.1\u001b[0m\" 404 -\n",
      "172.17.0.1 - - [26/May/2020 18:42:33] \"\u001b[33mGET /classify/ HTTP/1.1\u001b[0m\" 404 -\n",
      "172.17.0.1 - - [26/May/2020 18:47:53] \"\u001b[37mPOST /classify HTTP/1.1\u001b[0m\" 200 -\n",
      "172.17.0.1 - - [26/May/2020 18:47:55] \"\u001b[37mPOST /classify HTTP/1.1\u001b[0m\" 200 -\n",
      "172.17.0.1 - - [26/May/2020 18:49:20] \"\u001b[37mPOST /classify HTTP/1.1\u001b[0m\" 200 -\n",
      "172.17.0.1 - - [26/May/2020 20:04:04] \"\u001b[37mPOST /classify HTTP/1.1\u001b[0m\" 200 -\n",
      "172.17.0.1 - - [26/May/2020 20:04:28] \"\u001b[37mPOST /classify HTTP/1.1\u001b[0m\" 200 -\n"
     ]
    }
   ],
   "source": [
    "import pickle\n",
    "import json\n",
    "from flask import Flask, request\n",
    "import numpy as np\n",
    "service = Flask(__name__)\n",
    "\n",
    "##################\n",
    "\n",
    "def unpickle():\n",
    "    global trained\n",
    "    global classes\n",
    "    repo='/home/jovyan/work/dataismus/di-interview-product-classifier/training/'\n",
    "    with open(repo+'trained.pkl', 'rb') as f: trained = pickle.load(f)\n",
    "    classes=trained.classes_\n",
    "\n",
    "##################\n",
    "\n",
    "@service.route('/classify', methods=['POST'])\n",
    "def get_prediction():\n",
    "    data = request.get_json()\n",
    "    probas=trained.predict_proba([data[\"title\"]])[0]\n",
    "    top5=np.argsort(probas)[-5:]\n",
    "        \n",
    "    #requested JSON elements:\n",
    "    title=data[\"title\"]\n",
    "    top_5_results=[{\"product_type\": x, \"score\": \"{:.4f}\".format(y)} for (x,y) in zip(reversed(classes[top5]),reversed(probas[top5]))]\n",
    "    product_type=classes[top5][-1]\n",
    "    return json.dumps({\"title\": title, \"top_5_results\": top_5_results, \"product_type\": product_type}, indent=3)\n",
    "\n",
    "##################\n",
    "\n",
    "if __name__ == '__main__':\n",
    "    unpickle()\n",
    "    service.run(host='0.0.0.0', port=8055)"
   ]
  },
  {
   "cell_type": "code",
   "execution_count": null,
   "metadata": {},
   "outputs": [],
   "source": [
    "# curl -XPOST 'http://localhost:5050/classify' -H 'Content-Type: application/json' -d '{ \"title\": \"specialized batman\" }'"
   ]
  }
 ],
 "metadata": {
  "kernelspec": {
   "display_name": "Python 3",
   "language": "python",
   "name": "python3"
  },
  "language_info": {
   "codemirror_mode": {
    "name": "ipython",
    "version": 3
   },
   "file_extension": ".py",
   "mimetype": "text/x-python",
   "name": "python",
   "nbconvert_exporter": "python",
   "pygments_lexer": "ipython3",
   "version": "3.7.6"
  }
 },
 "nbformat": 4,
 "nbformat_minor": 4
}
